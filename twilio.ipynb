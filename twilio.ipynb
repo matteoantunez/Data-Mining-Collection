{
 "cells": [
  {
   "cell_type": "markdown",
   "metadata": {},
   "source": [
    "# Twilio Phone Lookup API"
   ]
  },
  {
   "cell_type": "markdown",
   "metadata": {},
   "source": [
    "We all have those moments. It's 2am after the bar closed and your trying to get to your bed asap (or elsewhewre...), but you had to get this one guy/girls number. You get it, go home, but didn't save the contact. Now it's the next morning and you're not asking him/her there name because it's instant turn-off. What do you do? You use the Twilio API and save the day!"
   ]
  },
  {
   "cell_type": "markdown",
   "metadata": {},
   "source": [
    "Twilio is a phone verification API that allows its developers to"
   ]
  },
  {
   "cell_type": "code",
   "execution_count": null,
   "metadata": {},
   "outputs": [],
   "source": [
    "import requests\n",
    "\n",
    "url = \"https://twilio-lookup.p.rapidapi.com/PhoneNumbers\"\n",
    "\n",
    "querystring = {\"phoneNumber\":\"+16608532117\"}\n",
    "\n",
    "headers = {\n",
    "    'x-rapidapi-host': \"twilio-lookup.p.rapidapi.com\",\n",
    "    'x-rapidapi-key': \"43818d1198msh0fd147bcf10ad07p113b65jsn8be97e8b88b4\"\n",
    "    }\n",
    "\n",
    "response = requests.request(\"GET\", url, headers=headers, params=querystring)\n",
    "\n",
    "print(response.text)"
   ]
  },
  {
   "cell_type": "code",
   "execution_count": null,
   "metadata": {},
   "outputs": [],
   "source": []
  }
 ],
 "metadata": {
  "interpreter": {
   "hash": "b0fa6594d8f4cbf19f97940f81e996739fb7646882a419484c72d19e05852a7e"
  },
  "kernelspec": {
   "display_name": "Python 3.9.9 64-bit",
   "language": "python",
   "name": "python3"
  },
  "language_info": {
   "name": "python",
   "version": "3.9.9"
  },
  "orig_nbformat": 4
 },
 "nbformat": 4,
 "nbformat_minor": 2
}
