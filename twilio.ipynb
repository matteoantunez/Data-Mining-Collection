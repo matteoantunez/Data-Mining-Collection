{
 "cells": [
  {
   "cell_type": "markdown",
   "metadata": {},
   "source": [
    "# Twilio Phone Lookup API"
   ]
  },
  {
   "cell_type": "markdown",
   "metadata": {},
   "source": [
    "We all have those moments. It's 2am after the bar closed and your trying to get to your bed asap (or elsewhewre...), but you had to get this one guy/girls number. You get it, go home, but didn't save the contact. Now it's the next morning and you're not asking him/her there name because it's instant turn-off. What do you do? You use the Twilio API and save the day!"
   ]
  },
  {
   "cell_type": "markdown",
   "metadata": {},
   "source": [
    "Twilio is a phone verification API that allows its developers to access the national telephone database to either validate phone formatting or located specific information, such as Carrier Information and Caller Name. For this luxery, however, it doesn't come free. Please see the following table for pricing"
   ]
  },
  {
   "cell_type": "markdown",
   "metadata": {},
   "source": [
    "| Phone Verification\t| Carrier Lookup\t| Owner Lookup\t|\n",
    "|---|---|---|\n",
    "| \\$ 0 / Month | \\$ 0 / Month | \\$ 0 / Month |\n",
    "| \\$ 0 / Query | \\$ 0.005 / Query | \\$ 0.01 / Query |"
   ]
  },
  {
   "cell_type": "code",
   "execution_count": null,
   "metadata": {},
   "outputs": [],
   "source": [
    "import requests\n",
    "\n",
    "print(\"Please Enter Your Phone Number starting with the country code. Please include no punctation (9876543210)\", end=\"\")\n",
    "phoneNum = input()\n",
    "phonenum = \"+\" + phoneNum\n",
    "print()\n",
    "\n",
    "print(\"Please Enter Your Key: \", end=\"\")\n",
    "key = input()\n",
    "print()\n",
    "\n",
    "url = \"https://twilio-lookup.p.rapidapi.com/PhoneNumbers\"\n",
    "\n",
    "querystring = {\"phoneNumber\": phoneNum }\n",
    "\n",
    "headers = {\n",
    "    'x-rapidapi-host': \"twilio-lookup.p.rapidapi.com\",\n",
    "    'x-rapidapi-key': key\n",
    "    }\n",
    "\n",
    "response = requests.request(\"GET\", url, headers=headers, params=querystring)\n",
    "\n",
    "print(response.text)"
   ]
  },
  {
   "cell_type": "code",
   "execution_count": null,
   "metadata": {},
   "outputs": [],
   "source": [
    "import requests\n",
    "\n",
    "print(\"Please Enter Your Phone Number starting with the country code. Please include no punctation (9876543210)\", end=\"\")\n",
    "phoneNum = input()\n",
    "phonenum = \"+\" + phoneNum\n",
    "print()\n",
    "\n",
    "print(\"Please Enter Your Key: \", end=\"\")\n",
    "key = input()\n",
    "print()\n",
    "\n",
    "url = \"https://twilio-lookup.p.rapidapi.com/PhoneNumbers/carrier\"\n",
    "\n",
    "querystring = {\"phoneNumber\": phoneNum }\n",
    "headers = {\n",
    "    'x-rapidapi-host': \"twilio-lookup.p.rapidapi.com\",\n",
    "    'x-rapidapi-key': key\n",
    "    }\n",
    "\n",
    "response = requests.request(\"GET\", url, headers=headers, params=querystring)\n",
    "\n",
    "print(response.text)"
   ]
  },
  {
   "cell_type": "code",
   "execution_count": null,
   "metadata": {},
   "outputs": [],
   "source": [
    "import requests\n",
    "\n",
    "print(\"Please Enter Your Phone Number starting with the country code. Please include no punctation (9876543210)\", end=\"\")\n",
    "phoneNum = input()\n",
    "phonenum = \"+\" + phoneNum\n",
    "print()\n",
    "\n",
    "print(\"Please Enter Your Key: \", end=\"\")\n",
    "key = input()\n",
    "print()\n",
    "\n",
    "url = \"https://twilio-lookup.p.rapidapi.com/PhoneNumbers/caller-name\"\n",
    "\n",
    "querystring = {\"phoneNumber\":phoneNum }"
   ]
  }
 ],
 "metadata": {
  "interpreter": {
   "hash": "b0fa6594d8f4cbf19f97940f81e996739fb7646882a419484c72d19e05852a7e"
  },
  "kernelspec": {
   "display_name": "Python 3",
   "language": "python",
   "name": "python3"
  },
  "language_info": {
   "codemirror_mode": {
    "name": "ipython",
    "version": 3
   },
   "file_extension": ".py",
   "mimetype": "text/x-python",
   "name": "python",
   "nbconvert_exporter": "python",
   "pygments_lexer": "ipython3",
   "version": "3.6.6+"
  }
 },
 "nbformat": 4,
 "nbformat_minor": 2
}
